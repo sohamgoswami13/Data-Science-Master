{
 "cells": [
  {
   "cell_type": "markdown",
   "id": "dcd63fb4-b035-4e21-a2cb-dc021b7d8ab2",
   "metadata": {},
   "source": [
    "1.who devloped python programming language?"
   ]
  },
  {
   "cell_type": "markdown",
   "id": "747c23bc-1f66-413d-92ca-9c89799f3c0b",
   "metadata": {},
   "source": [
    "Ans:-Guido van Rossum was create python programming language and released in 1991.\n"
   ]
  },
  {
   "cell_type": "markdown",
   "id": "d52144b7-8ee1-4ab0-8e06-e735fceb2f31",
   "metadata": {},
   "source": [
    "2.which type of programming does python support?"
   ]
  },
  {
   "cell_type": "markdown",
   "id": "47fd7cfe-0e5f-4b9b-954f-1cbd1b6bc2e7",
   "metadata": {},
   "source": [
    "Ans:-Python is a multi-paradigm programming language. Object-oriented programming and structured programming are fully supported, and many of their features support functional programming and aspect-oriented programming (including metaprogramming and metaobjects).\n"
   ]
  },
  {
   "cell_type": "markdown",
   "id": "468854db-ddf8-4655-8ebe-4819835bca91",
   "metadata": {},
   "source": [
    "3.Is python case sensitive when dealing with identifier?"
   ]
  },
  {
   "cell_type": "markdown",
   "id": "c172e0a8-fafa-4370-ba24-b7cf2ee4b1e7",
   "metadata": {},
   "source": [
    "Ans:-Yes, Python is a case-sensitive language."
   ]
  },
  {
   "cell_type": "markdown",
   "id": "f305956c-dc1a-421f-be9a-3b61889415d4",
   "metadata": {},
   "source": [
    "4.What are correct extension of python file?"
   ]
  },
  {
   "cell_type": "markdown",
   "id": "b37f5e09-6a36-4b5f-8d43-aade7b33899a",
   "metadata": {},
   "source": [
    "Ans:-py"
   ]
  },
  {
   "cell_type": "markdown",
   "id": "6dfddf1c-f6e7-4bf9-a732-083393816311",
   "metadata": {},
   "source": [
    "5.Is python code compiled or interpreted ?\n"
   ]
  },
  {
   "cell_type": "markdown",
   "id": "cb42282f-04a7-49dd-a0b1-03f606dafa7d",
   "metadata": {},
   "source": [
    "Ans:- Python is an interpreted language, which means the source code of a Python program is converted into bytecode that is then executed by the Python virtual machine"
   ]
  },
  {
   "cell_type": "markdown",
   "id": "089ff4a2-21a1-4ea6-8cab-b3a31b2f508b",
   "metadata": {},
   "source": [
    "6.Name few block of code used to define in python language?"
   ]
  },
  {
   "cell_type": "markdown",
   "id": "07cf234b-2082-42ee-bb1e-1e9ce3880e2d",
   "metadata": {},
   "source": [
    "Ans:-Indentation is used to define a block of code in python. Braces {} are used to define a block of code in most programming languages, like C, C++, and Java. But this indentation makes python unique among all programming languages."
   ]
  },
  {
   "cell_type": "markdown",
   "id": "c557982d-2fb2-426b-9129-3943bf3f9060",
   "metadata": {},
   "source": [
    "7.State a character used to give single line comment in python"
   ]
  },
  {
   "cell_type": "markdown",
   "id": "4e17e6db-3bad-461e-ae9a-f231e9af871e",
   "metadata": {},
   "source": [
    "Ans:-#"
   ]
  },
  {
   "cell_type": "markdown",
   "id": "c7ff910c-55df-4006-83ab-7503a355c732",
   "metadata": {},
   "source": [
    "8.Mention a function which can help us find version of python that we currently working on?"
   ]
  },
  {
   "cell_type": "markdown",
   "id": "b8010ae4-66aa-4bda-85a8-1d1b811aca44",
   "metadata": {},
   "source": [
    "Ans:-The function sys.version can help us to find the version of python that we are currently working on."
   ]
  },
  {
   "cell_type": "code",
   "execution_count": 4,
   "id": "5aad840c-4b63-4bf4-bc76-ca4d8a1f2cad",
   "metadata": {},
   "outputs": [
    {
     "name": "stdout",
     "output_type": "stream",
     "text": [
      "3.10.8 | packaged by conda-forge | (main, Nov 22 2022, 08:26:04) [GCC 10.4.0]\n"
     ]
    }
   ],
   "source": [
    "# Check the Python Version\n",
    "\n",
    "import sys\n",
    "print(sys.version)"
   ]
  },
  {
   "cell_type": "markdown",
   "id": "bf1350d9-1d3a-4917-8cb5-e78e3fc7370a",
   "metadata": {},
   "source": [
    "9.Python suppoet a creation of anonymous function at a run time using constuctor is called ....."
   ]
  },
  {
   "cell_type": "markdown",
   "id": "3641a12c-b38d-40fc-9dc2-0de8cd926e4a",
   "metadata": {},
   "source": [
    "Ans:-Lamda"
   ]
  },
  {
   "cell_type": "markdown",
   "id": "45185db1-e35b-48a3-bdda-2a497e22d038",
   "metadata": {},
   "source": [
    "10.What does pip stand for python?"
   ]
  },
  {
   "cell_type": "markdown",
   "id": "4e3d3ec6-90c0-4113-acaa-d14a534ed1dd",
   "metadata": {},
   "source": [
    "Ans:-pip stands for \"preferred installer program\" and PIP is a package manager for Python packages"
   ]
  },
  {
   "cell_type": "markdown",
   "id": "f8d69140-c639-42f9-b756-7715e36e8c96",
   "metadata": {},
   "source": [
    "11.Mention some buid in function in python?"
   ]
  },
  {
   "cell_type": "markdown",
   "id": "93e20224-cc86-4ddd-b5b4-85e715a4b44e",
   "metadata": {},
   "source": [
    "Ans:-type() len() print() sum() help() power() abs() And many more.."
   ]
  },
  {
   "cell_type": "markdown",
   "id": "28a89bae-bf55-4eeb-810e-512a700cdc95",
   "metadata": {},
   "source": [
    "12.What is maximum length of identifier in python?"
   ]
  },
  {
   "cell_type": "markdown",
   "id": "3b5bda72-04b5-44db-910e-fbc34ea65f86",
   "metadata": {},
   "source": [
    "Ans:- identifier can have a maximum length of 79 characters in Python."
   ]
  },
  {
   "cell_type": "markdown",
   "id": "dd9fed38-392a-434b-8c1f-2b8016a68c62",
   "metadata": {},
   "source": [
    "13.What are benifit using python?"
   ]
  },
  {
   "cell_type": "markdown",
   "id": "f67c5e9b-d98c-4d22-82c8-e65605da29a1",
   "metadata": {},
   "source": [
    "Ans:-Extensive support libraries(NumPy for numerical calculations, Pandas for data analytics, etc.) : Open source and large active community base : Object-Oriented and Procedural Programming language : Interpreted Language : Dynamically typed language(No need to mention data type based on the value assigned, it takes data type) : Portable and Interactive"
   ]
  },
  {
   "cell_type": "markdown",
   "id": "66c006db-8b15-4bf1-a327-0883db56e0a3",
   "metadata": {},
   "source": [
    "14.How is memory manage in python ?"
   ]
  },
  {
   "cell_type": "markdown",
   "id": "c28dc5d8-32f2-400d-ac36-8026ec25b687",
   "metadata": {},
   "source": [
    "Ans:-Memory management in Python involves a private heap containing all Python objects and data structures. The management of this private heap is ensured internally by the Python memory manager."
   ]
  },
  {
   "cell_type": "markdown",
   "id": "5ac6ff9e-e0d3-42ac-b415-15e0e8fd7a92",
   "metadata": {},
   "source": [
    "15.How to install python on windows and set path variable?"
   ]
  },
  {
   "cell_type": "markdown",
   "id": "eb2a7ec4-ea3b-4bd0-86e4-2dd9b93e80fc",
   "metadata": {},
   "source": [
    "Ans:-The complete path of python.exe can be added by:\n",
    "\n",
    "1)Right-clicking This PC and going to Properties.\n",
    "\n",
    "2)Clicking on the Advanced system settings in the menu on the left.\n",
    "\n",
    "3)Clicking on the Environment Variables button o​n the bottom right.\n",
    "\n",
    "4)In the System variables section, selecting the Path variable and clicking on Edit. The next screen will show        all the directories that are currently a part of the PATH variable.\n",
    "\n",
    "5)Clicking on New and entering Python’s install directory.\n",
    "\n",
    "Python can now be used directly from the command prompt without having to write its location. Try executing the     command python --version; it will output the version of Python installed on your system."
   ]
  },
  {
   "cell_type": "markdown",
   "id": "afc44217-77d6-4768-b876-dd7c5cd0f296",
   "metadata": {},
   "source": [
    "16.Is indentation required in python?"
   ]
  },
  {
   "cell_type": "markdown",
   "id": "0e2f5286-a0b0-4608-a5ed-f13cdebff8e0",
   "metadata": {},
   "source": [
    "Ans:-yes, Indentation refers to the spaces at the beginning of a code line. Where in other programming languages the use of indentation in code is for readability only, the indentation in Python is very important. Python uses indentation to indicate a block of code."
   ]
  },
  {
   "cell_type": "code",
   "execution_count": null,
   "id": "e8d7f52b-cf93-46e8-8f8e-7afc7b64ddfb",
   "metadata": {},
   "outputs": [],
   "source": []
  }
 ],
 "metadata": {
  "kernelspec": {
   "display_name": "Python 3 (ipykernel)",
   "language": "python",
   "name": "python3"
  },
  "language_info": {
   "codemirror_mode": {
    "name": "ipython",
    "version": 3
   },
   "file_extension": ".py",
   "mimetype": "text/x-python",
   "name": "python",
   "nbconvert_exporter": "python",
   "pygments_lexer": "ipython3",
   "version": "3.10.8"
  }
 },
 "nbformat": 4,
 "nbformat_minor": 5
}
