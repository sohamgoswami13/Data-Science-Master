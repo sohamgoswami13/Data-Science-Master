{
 "cells": [
  {
   "cell_type": "markdown",
   "id": "376cbb8e-c254-4699-bc45-6f2f254c5928",
   "metadata": {},
   "source": [
    "**Q1. Create a vehicle class with an init method having instance variables as name_of_vehicle, max_speed \n",
    "and average_of_vehicle**"
   ]
  },
  {
   "cell_type": "code",
   "execution_count": 1,
   "id": "18135a44-c118-4372-8029-256048c9bd2c",
   "metadata": {},
   "outputs": [],
   "source": [
    "class Vehicle:\n",
    "    def __init__(self, name, max_speed, avg_speed):\n",
    "        self.name_of_vehicle = name\n",
    "        self.max_speed = max_speed\n",
    "        self.average_of_vehicle = avg_speed"
   ]
  },
  {
   "cell_type": "code",
   "execution_count": 2,
   "id": "f710ea7c-746a-4a48-9a0c-99f133fba3cc",
   "metadata": {},
   "outputs": [],
   "source": [
    "car = Vehicle(\"Toyota\", 200, 120)"
   ]
  },
  {
   "cell_type": "code",
   "execution_count": 3,
   "id": "dfc7de69-c534-430c-93b9-38ab0b4b1266",
   "metadata": {},
   "outputs": [
    {
     "name": "stdout",
     "output_type": "stream",
     "text": [
      "Toyota\n",
      "200\n",
      "120\n"
     ]
    }
   ],
   "source": [
    "print(car.name_of_vehicle) \n",
    "print(car.max_speed) \n",
    "print(car.average_of_vehicle) "
   ]
  },
  {
   "cell_type": "markdown",
   "id": "254c56e6-5359-4c3e-9ed4-854f70aa881e",
   "metadata": {},
   "source": [
    "**Q2.Create a child class car from the vehicle class created in Que 1, which will inherit the vehicle class. \n",
    "Create a method named seating_capacity which takes capacity as an argument and returns the name of \n",
    "the vehicle and its seating capacity**"
   ]
  },
  {
   "cell_type": "code",
   "execution_count": 4,
   "id": "b6072b38-ac92-437c-b92c-88f7cb5528f0",
   "metadata": {},
   "outputs": [],
   "source": [
    "class Car(Vehicle):\n",
    "    def __init__(self, name, max_speed, avg_speed):\n",
    "        super().__init__(name, max_speed, avg_speed)\n",
    "        \n",
    "    def seating_capacity(self, capacity):\n",
    "        return f\"{self.name_of_vehicle} has a seating capacity of {capacity} passengers.\"\n"
   ]
  },
  {
   "cell_type": "code",
   "execution_count": 6,
   "id": "6954027e-7c2e-4ebb-8a0d-8177d934fdf7",
   "metadata": {},
   "outputs": [
    {
     "name": "stdout",
     "output_type": "stream",
     "text": [
      "Toyota has a seating capacity of 5 passengers.\n"
     ]
    }
   ],
   "source": [
    "my_car = Car(\"Toyota\", 200, 120)\n",
    "print(my_car.seating_capacity(5)) "
   ]
  },
  {
   "cell_type": "markdown",
   "id": "c8dfa7b8-28e0-4804-ac0f-35e534807829",
   "metadata": {},
   "source": [
    "**Q3. What is multiple inheritance? Write a python code to demonstrate multiple inheritance.**"
   ]
  },
  {
   "cell_type": "markdown",
   "id": "9ec98000-be1a-43b0-ba5a-5149a313bc0c",
   "metadata": {},
   "source": [
    "**Multiple inheritance** is a feature of some object-oriented computer programming languages in which an object or class can inherit features from more than one parent object or parent class. It is distinct from single inheritance, where an object or class may only inherit from one particular object or class."
   ]
  },
  {
   "cell_type": "code",
   "execution_count": 7,
   "id": "38b3045c-64a5-4e30-9f60-2a8a2ff37d77",
   "metadata": {},
   "outputs": [
    {
     "name": "stdout",
     "output_type": "stream",
     "text": [
      "The Tesla Model S has a maximum speed of 250 km/h. The vehicle has a battery capacity of 100 kWh.\n"
     ]
    }
   ],
   "source": [
    "class Vehicle:\n",
    "    def __init__(self, name, max_speed):\n",
    "        self.name = name\n",
    "        self.max_speed = max_speed\n",
    "        \n",
    "    def description(self):\n",
    "        return f\"The {self.name} has a maximum speed of {self.max_speed} km/h.\"\n",
    "\n",
    "class Electric:\n",
    "    def __init__(self, battery_capacity):\n",
    "        self.battery_capacity = battery_capacity\n",
    "        \n",
    "    def description(self):\n",
    "        return f\"The vehicle has a battery capacity of {self.battery_capacity} kWh.\"\n",
    "\n",
    "class ElectricCar(Vehicle, Electric):\n",
    "    def __init__(self, name, max_speed, battery_capacity):\n",
    "        Vehicle.__init__(self, name, max_speed)\n",
    "        Electric.__init__(self, battery_capacity)\n",
    "        \n",
    "    def description(self):\n",
    "        return f\"{Vehicle.description(self)} {Electric.description(self)}\"\n",
    "\n",
    "my_car = ElectricCar(\"Tesla Model S\", 250, 100)\n",
    "print(my_car.description())"
   ]
  },
  {
   "cell_type": "markdown",
   "id": "cc709573-0a6b-4318-b6c2-2dacf9193962",
   "metadata": {},
   "source": [
    "**Q4. What are getter and setter in python? Create a class and create a getter and a setter method in this \n",
    "class.**"
   ]
  },
  {
   "cell_type": "markdown",
   "id": "d7061c75-8b24-439a-afe0-6afc9c3041e2",
   "metadata": {},
   "source": [
    "**Getter:** A method that allows you to access an attribute in a given class. \n",
    "\n",
    "**Setter:** A method that allows you to set or mutate the value of an attribute in a class."
   ]
  },
  {
   "cell_type": "code",
   "execution_count": 9,
   "id": "b7ba7193-5662-4631-a31f-c55c76fd22eb",
   "metadata": {},
   "outputs": [],
   "source": [
    "class Person:\n",
    "    def __init__(self, name, age):\n",
    "        self._name = name\n",
    "        self._age = age\n",
    "\n",
    "    def get_name(self):\n",
    "        return self._name\n",
    "\n",
    "    def set_name(self, name):\n",
    "        self._name = name\n",
    "\n",
    "    def get_age(self):\n",
    "        return self._age\n",
    "\n",
    "    def set_age(self, age):\n",
    "        self._age = age\n"
   ]
  },
  {
   "cell_type": "code",
   "execution_count": 11,
   "id": "bf58e7e2-6735-4262-8017-72a9d6a90a6a",
   "metadata": {},
   "outputs": [
    {
     "name": "stdout",
     "output_type": "stream",
     "text": [
      "Soham\n",
      "Om\n"
     ]
    }
   ],
   "source": [
    "person = Person(\"Soham\", 30)\n",
    "print(person.get_name())\n",
    "person.set_name(\"Om\")\n",
    "print(person.get_name())"
   ]
  },
  {
   "cell_type": "markdown",
   "id": "9a80ef48-0a7d-43b2-a591-d4bcb5f4eaa9",
   "metadata": {},
   "source": [
    "**Q5.What is method overriding in python? Write a python code to demonstrate method overriding.**"
   ]
  },
  {
   "cell_type": "markdown",
   "id": "84c82f5d-9f69-4899-840e-02b561380c55",
   "metadata": {},
   "source": [
    "**Method overriding** is a feature of object-oriented programming languages where the subclass or child class can provide the program with specific characteristics or a specific implementation process of data provided that are already defined in the parent class or superclass."
   ]
  },
  {
   "cell_type": "code",
   "execution_count": 12,
   "id": "b6d58d7d-e030-4a04-a61c-14ad27014c45",
   "metadata": {},
   "outputs": [
    {
     "name": "stdout",
     "output_type": "stream",
     "text": [
      "The animal makes a sound\n",
      "The dog barks\n",
      "The cat meows\n"
     ]
    }
   ],
   "source": [
    "class Animal:\n",
    "    def speak(self):\n",
    "        print(\"The animal makes a sound\")\n",
    "\n",
    "class Dog(Animal):\n",
    "    def speak(self):\n",
    "        print(\"The dog barks\")\n",
    "\n",
    "class Cat(Animal):\n",
    "    def speak(self):\n",
    "        print(\"The cat meows\")\n",
    "\n",
    "# create instances of the classes\n",
    "animal = Animal()\n",
    "dog = Dog()\n",
    "cat = Cat()\n",
    "\n",
    "# call the speak() method on each instance\n",
    "animal.speak()\n",
    "dog.speak()\n",
    "cat.speak()\n"
   ]
  }
 ],
 "metadata": {
  "kernelspec": {
   "display_name": "Python 3 (ipykernel)",
   "language": "python",
   "name": "python3"
  },
  "language_info": {
   "codemirror_mode": {
    "name": "ipython",
    "version": 3
   },
   "file_extension": ".py",
   "mimetype": "text/x-python",
   "name": "python",
   "nbconvert_exporter": "python",
   "pygments_lexer": "ipython3",
   "version": "3.10.8"
  }
 },
 "nbformat": 4,
 "nbformat_minor": 5
}
