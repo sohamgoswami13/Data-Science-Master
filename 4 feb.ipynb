{
 "cells": [
  {
   "cell_type": "markdown",
   "id": "f7578e34-a412-4af5-9bef-4159d0e4a368",
   "metadata": {},
   "source": [
    "**Q1. Create a python program to sort the given list of tuples based on integer value using a \n",
    "lambda function.**"
   ]
  },
  {
   "cell_type": "markdown",
   "id": "7bc9eafa-eff9-49ce-bbdc-726f0e77594b",
   "metadata": {},
   "source": [
    " [('Sachin Tendulkar', 34357), ('Ricky Ponting', 27483), ('Jack Kallis', 25534), ('Virat Kohli', 24936)]"
   ]
  },
  {
   "cell_type": "code",
   "execution_count": 1,
   "id": "4c3fa638-e67d-44a8-8b24-b7a7ed9b8106",
   "metadata": {},
   "outputs": [],
   "source": [
    "#Answer"
   ]
  },
  {
   "cell_type": "code",
   "execution_count": 2,
   "id": "e4a265b6-486e-4b1c-8889-bb5fadd43334",
   "metadata": {},
   "outputs": [],
   "source": [
    "l= [('Sachin Tendulkar', 34357), ('Ricky Ponting', 27483), ('Jack Kallis', 25534), ('Virat Kohli', 24936)]"
   ]
  },
  {
   "cell_type": "code",
   "execution_count": 4,
   "id": "2fd9c0ad-9019-413c-9348-27d9b2081733",
   "metadata": {},
   "outputs": [
    {
     "name": "stdout",
     "output_type": "stream",
     "text": [
      "[('Sachin Tendulkar', 34357), ('Ricky Ponting', 27483), ('Jack Kallis', 25534), ('Virat Kohli', 24936)]\n"
     ]
    }
   ],
   "source": [
    "players= [('Sachin Tendulkar', 34357), ('Ricky Ponting', 27483), ('Jack Kallis', 25534), ('Virat Kohli', 24936)]\n",
    "sorted_players = sorted(players, key=lambda x: x[1], reverse=True)\n",
    "print(sorted_players)"
   ]
  },
  {
   "cell_type": "markdown",
   "id": "22c6509c-7ace-4ce3-ac21-412dc44b9270",
   "metadata": {},
   "source": [
    "**Q2. Write a Python Program to find the squares of all the numbers in the given list of integers using \n",
    "lambda and map functions.**"
   ]
  },
  {
   "cell_type": "markdown",
   "id": "ada0f826-f772-4998-bcd3-465c9e1bf31e",
   "metadata": {},
   "source": [
    "**[1, 2, 3, 4, 5, 6, 7, 8, 9, 10]**"
   ]
  },
  {
   "cell_type": "code",
   "execution_count": 6,
   "id": "10e63176-b5a7-446e-b658-54c96b5aa91b",
   "metadata": {},
   "outputs": [],
   "source": [
    "#Answer"
   ]
  },
  {
   "cell_type": "code",
   "execution_count": 7,
   "id": "6eaffffd-0d4e-4af6-9cce-41cd308b6d3d",
   "metadata": {},
   "outputs": [],
   "source": [
    "l=[1, 2, 3, 4, 5, 6, 7, 8, 9, 10]"
   ]
  },
  {
   "cell_type": "code",
   "execution_count": 8,
   "id": "22576ebd-5933-4050-a7af-f9d74c221d1b",
   "metadata": {},
   "outputs": [
    {
     "data": {
      "text/plain": [
       "[1, 4, 9, 16, 25, 36, 49, 64, 81, 100]"
      ]
     },
     "execution_count": 8,
     "metadata": {},
     "output_type": "execute_result"
    }
   ],
   "source": [
    "list(map(lambda x:x**2 , l ))"
   ]
  },
  {
   "cell_type": "markdown",
   "id": "0babfc80-21e8-461b-be8c-db6246f64f85",
   "metadata": {},
   "source": [
    "**Q3. Write a python program to convert the given list of integers into a tuple of strings. Use map and lambda functions Given String: [1, 2, 3, 4, 5, 6, 7, 8, 9, 10] Expected output: ('1', '2', '3', '4', '5', '6', '7', '8', '9', '10')**"
   ]
  },
  {
   "cell_type": "code",
   "execution_count": 11,
   "id": "5a8752a9-f6dd-422a-ad4b-da5f7d773194",
   "metadata": {},
   "outputs": [],
   "source": [
    "s1=[1, 2, 3, 4, 5, 6, 7, 8, 9, 10]"
   ]
  },
  {
   "cell_type": "code",
   "execution_count": 12,
   "id": "894fa13b-7b45-477b-a904-f055746c9a7b",
   "metadata": {},
   "outputs": [
    {
     "data": {
      "text/plain": [
       "('1', '2', '3', '4', '5', '6', '7', '8', '9', '10')"
      ]
     },
     "execution_count": 12,
     "metadata": {},
     "output_type": "execute_result"
    }
   ],
   "source": [
    "tuple(map(lambda x:str(x),s1))"
   ]
  },
  {
   "cell_type": "markdown",
   "id": "55487418-ad53-4195-b8f9-0fc46fd5a138",
   "metadata": {},
   "source": [
    "**Q4. Write a python program using reduce function to compute the product of a list containing numbers from 1 to 25.**"
   ]
  },
  {
   "cell_type": "code",
   "execution_count": 13,
   "id": "ec6c7075-1d7e-48da-b258-04051b4c0355",
   "metadata": {},
   "outputs": [],
   "source": [
    "#Answer"
   ]
  },
  {
   "cell_type": "code",
   "execution_count": 16,
   "id": "9d5fd2c2-bec3-48e3-bb19-0e80779d4069",
   "metadata": {},
   "outputs": [
    {
     "data": {
      "text/plain": [
       "15511210043330985984000000"
      ]
     },
     "execution_count": 16,
     "metadata": {},
     "output_type": "execute_result"
    }
   ],
   "source": [
    "list=[]\n",
    "for i in range(1,26):\n",
    "    list.append(i)  \n",
    "list\n",
    "from functools import reduce\n",
    "reduce (lambda x,y:x*y , list)"
   ]
  },
  {
   "cell_type": "markdown",
   "id": "c15fa15c-ab26-4352-90b9-62a6885da3ce",
   "metadata": {},
   "source": [
    "**Q5. Write a python program to filter the numbers in a given list that are divisible by 2 and 3 using the filter function. [2, 3, 6, 9, 27, 60, 90, 120, 55, 46]**"
   ]
  },
  {
   "cell_type": "code",
   "execution_count": 26,
   "id": "e1e722b9-1383-4b7d-8493-7615ee6cdb04",
   "metadata": {},
   "outputs": [],
   "source": [
    "#Answer"
   ]
  },
  {
   "cell_type": "code",
   "execution_count": 25,
   "id": "6ad73cc8-42e0-4a55-99b9-182f2376faae",
   "metadata": {},
   "outputs": [
    {
     "name": "stdout",
     "output_type": "stream",
     "text": [
      "(6, 60, 90, 120)\n"
     ]
    }
   ],
   "source": [
    "num= [2, 3, 6, 9, 27, 60, 90, 120, 55, 46]\n",
    "result=tuple(filter(lambda x:x%2==0 and x%3==0 ,num))\n",
    "print(result)"
   ]
  },
  {
   "cell_type": "markdown",
   "id": "825d9473-30f0-45b9-972a-4647769a357c",
   "metadata": {},
   "source": [
    "**Q6. Write a python program to find palindromes in the given list of strings using lambda and filter function. ['python', 'php', 'aba', 'radar', 'level']**"
   ]
  },
  {
   "cell_type": "code",
   "execution_count": 27,
   "id": "3ab58456-21af-4197-8b4a-eee3a93f05c5",
   "metadata": {},
   "outputs": [
    {
     "data": {
      "text/plain": [
       "('php', 'aba', 'radar', 'level')"
      ]
     },
     "execution_count": 27,
     "metadata": {},
     "output_type": "execute_result"
    }
   ],
   "source": [
    "fun=['python', 'php', 'aba', 'radar', 'level']\n",
    "\n",
    "tuple(filter(lambda x:x[::-1]==x,fun))"
   ]
  }
 ],
 "metadata": {
  "kernelspec": {
   "display_name": "Python 3 (ipykernel)",
   "language": "python",
   "name": "python3"
  },
  "language_info": {
   "codemirror_mode": {
    "name": "ipython",
    "version": 3
   },
   "file_extension": ".py",
   "mimetype": "text/x-python",
   "name": "python",
   "nbconvert_exporter": "python",
   "pygments_lexer": "ipython3",
   "version": "3.10.8"
  }
 },
 "nbformat": 4,
 "nbformat_minor": 5
}
