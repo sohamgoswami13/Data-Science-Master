{
 "cells": [
  {
   "cell_type": "markdown",
   "id": "af6e6b1d-d340-443c-8411-6923aaa40e87",
   "metadata": {},
   "source": [
    "**Q1. What is Abstraction in OOps? Explain with an example**"
   ]
  },
  {
   "cell_type": "markdown",
   "id": "1939ccab-8dcb-4380-88fc-d6e5637bdec2",
   "metadata": {},
   "source": [
    "**Abstraction** is the process of hiding the internal details of an application from the outer world. Abstraction is used to describe things in simple terms. It's used to create a boundary between the application and the client programs."
   ]
  },
  {
   "cell_type": "code",
   "execution_count": 1,
   "id": "f4511d0e-d444-450a-ba98-f29c7032c2b4",
   "metadata": {},
   "outputs": [],
   "source": [
    "#Example"
   ]
  },
  {
   "cell_type": "code",
   "execution_count": 2,
   "id": "cc260857-e9bd-413e-8408-a1e4e701efe8",
   "metadata": {},
   "outputs": [
    {
     "name": "stdout",
     "output_type": "stream",
     "text": [
      "10.0\n"
     ]
    }
   ],
   "source": [
    "class Shape:\n",
    "    def __init__(self, sides):\n",
    "        self.sides = sides\n",
    "\n",
    "    def calculate_area(self):\n",
    "        pass\n",
    "\n",
    "class Triangle(Shape):\n",
    "    def __init__(self, sides, base, height):\n",
    "        super().__init__(sides)\n",
    "        self.base = base\n",
    "        self.height = height\n",
    "\n",
    "    def calculate_area(self):\n",
    "        return 0.5 * self.base * self.height\n",
    "\n",
    "tri = Triangle(3, 4, 5)\n",
    "print(tri.calculate_area())"
   ]
  },
  {
   "cell_type": "markdown",
   "id": "4aef86cc-2021-46ce-85c0-9ef2295a1f31",
   "metadata": {},
   "source": [
    "**Q2. Differentiate between Abstraction and Encapsulation. Explain with an example**"
   ]
  },
  {
   "cell_type": "markdown",
   "id": "c88070fe-83b7-4cc8-9081-16eecf5e18e4",
   "metadata": {},
   "source": [
    "Abstraction and Encapsulation are two fundamental concepts in object-oriented programming (OOP) and are closely related. However, they have distinct differences:"
   ]
  },
  {
   "cell_type": "markdown",
   "id": "ab379882-c1bc-4dd0-a2d0-c39011c022a5",
   "metadata": {},
   "source": [
    "Abstraction: It is the process of hiding the implementation details and showing only the necessary information to the user. It helps to reduce complexity and improve the readability of the code by hiding unnecessary details from the user. In other words, abstraction is the process of displaying only the essential features of an object, ignoring the non-essential details."
   ]
  },
  {
   "cell_type": "markdown",
   "id": "443aac5d-a377-4a0e-a574-ec76b1bb190a",
   "metadata": {},
   "source": [
    "Example: Consider a TV remote control, where a user only needs to know the basic buttons to operate the TV, such as power on/off, volume up/down, channel up/down, etc. The user does not need to know the internal workings of the remote control or the TV. This is an example of abstraction, where only the necessary information is provided to the user."
   ]
  },
  {
   "cell_type": "markdown",
   "id": "ecde0b84-592c-438c-b2e6-cd838971999a",
   "metadata": {},
   "source": [
    "Encapsulation: It is the mechanism of wrapping data and functions within a single unit, or object. It provides protection to the data and helps to prevent accidental modification to it. Encapsulation allows an object to hide its internal data and behavior, and exposes only a public interface to interact with it."
   ]
  },
  {
   "cell_type": "markdown",
   "id": "e0f7f109-117e-47fd-9fed-348939a9c880",
   "metadata": {},
   "source": [
    "Example: Consider a bank account, where a user can deposit, withdraw, and check the balance. The internal details of the bank account, such as the calculation of interest, the method of storing account details, etc., are hidden from the user and are encapsulated within the object. The user can interact with the bank account only through the provided interface.\n",
    "\n",
    "In conclusion, Abstraction and Encapsulation are two important concepts in object-oriented programming that work together to provide a clear and concise interface for the user while hiding the implementation details of the object."
   ]
  },
  {
   "cell_type": "code",
   "execution_count": 3,
   "id": "34d22097-2c76-4f30-8877-0d7c15d6cc39",
   "metadata": {},
   "outputs": [
    {
     "name": "stdout",
     "output_type": "stream",
     "text": [
      "Name:  Soham Salary: 8000\n",
      "Soham is working on NLP\n"
     ]
    }
   ],
   "source": [
    "class Employee:\n",
    "    # constructor\n",
    "    def __init__(self, name, salary, project):\n",
    "        # data members\n",
    "        self.name = name\n",
    "        self.salary = salary\n",
    "        self.project = project\n",
    "\n",
    "    # method\n",
    "    # to display employee's details\n",
    "    def show(self):\n",
    "        # accessing public data member\n",
    "        print(\"Name: \", self.name, 'Salary:', self.salary)\n",
    "\n",
    "    # method\n",
    "    def work(self):\n",
    "        print(self.name, 'is working on', self.project)\n",
    "\n",
    "# creating object of a class\n",
    "emp = Employee('Soham', 8000, 'NLP')\n",
    "\n",
    "# calling public method of the class\n",
    "emp.show()\n",
    "emp.work()"
   ]
  },
  {
   "cell_type": "markdown",
   "id": "9f30549d-e288-45da-9739-1eb969fe0c61",
   "metadata": {},
   "source": [
    "**Q3. What is abc module in python? Why is it used?**"
   ]
  },
  {
   "cell_type": "markdown",
   "id": "e585f5a6-d95f-495a-8896-50d65b8d6c8d",
   "metadata": {},
   "source": [
    "The abc module in Python stands for \"Abstract Base Classes.\" It is a built-in module that provides the infrastructure for defining abstract base classes in Python.\n",
    "\n",
    "Abstract base classes (ABCs) are classes that cannot be instantiated but serve as a template for other classes to inherit from. They are used to define a set of methods that must be implemented by any class that inherits from them, but they do not provide a concrete implementation of those methods. Instead, they define the interface that any subclass must adhere to.\n",
    "\n",
    "The abc module provides the ABC class, which is the base class for defining abstract base classes. It also provides the abstractmethod decorator, which is used to mark a method as abstract and must be implemented by any subclass.\n",
    "\n",
    "The abc module is used in Python to create hierarchies of classes that share a common interface. By using abstract base classes, you can ensure that any subclass that inherits from the ABC implements the necessary methods, which helps to prevent errors and increase the robustness of your code. It also makes it easier to write generic code that works with a variety of classes that implement the same interface."
   ]
  },
  {
   "cell_type": "markdown",
   "id": "fa9c8cf7-f1de-4d7c-afe9-5b0e23b34976",
   "metadata": {},
   "source": [
    "**Q4. How can we achieve data abstraction?**"
   ]
  },
  {
   "cell_type": "markdown",
   "id": "bcab3705-e9d0-4e32-bc42-41f751fb5788",
   "metadata": {},
   "source": [
    "Data abstraction is achieved in several ways in computer programming, including:\n",
    "\n",
    "Classes and objects: In object-oriented programming (OOP), data abstraction is achieved through classes and objects. A class is a blueprint that defines the structure and behavior of an object, while an object is an instance of a class. Classes can hide the implementation details of an object, making it possible to abstract the data and expose only the necessary information to the user.\n",
    "\n",
    "Interfaces: An interface is a contract between the implementation and the client, specifying the methods that the implementation must provide. Interfaces allow the implementation to change without affecting the client, as long as the interface remains the same.\n",
    "\n",
    "Modules: In programming, modules provide a way to organize code into separate, reusable units. By encapsulating code in modules, it is possible to abstract the implementation details and expose only the necessary information to the user.\n",
    "\n",
    "Data structures: Data structures, such as arrays, linked lists, trees, and graphs, provide a way to organize and store data in a structured manner. By using data structures, it is possible to abstract the implementation details of the data and expose only the necessary information to the user."
   ]
  },
  {
   "cell_type": "markdown",
   "id": "babe2d9e-1787-4120-a9df-1168570fd870",
   "metadata": {},
   "source": [
    "**Q5. Can we create an instance of an abstract class? Explain your answer.**"
   ]
  },
  {
   "cell_type": "markdown",
   "id": "973a8085-face-4897-8439-171a906b925c",
   "metadata": {},
   "source": [
    "No, you cannot create an instance of an abstract class in most programming languages, including Python. An abstract class is a class that cannot be instantiated on its own, but it can be subclassed. The purpose of an abstract class is to define a common interface for a set of related objects, but it does not provide a complete implementation on its own. Subclasses of an abstract class must provide the implementation of the abstract methods defined by the abstract class."
   ]
  }
 ],
 "metadata": {
  "kernelspec": {
   "display_name": "Python 3 (ipykernel)",
   "language": "python",
   "name": "python3"
  },
  "language_info": {
   "codemirror_mode": {
    "name": "ipython",
    "version": 3
   },
   "file_extension": ".py",
   "mimetype": "text/x-python",
   "name": "python",
   "nbconvert_exporter": "python",
   "pygments_lexer": "ipython3",
   "version": "3.10.8"
  }
 },
 "nbformat": 4,
 "nbformat_minor": 5
}
