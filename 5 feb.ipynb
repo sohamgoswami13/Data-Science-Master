{
 "cells": [
  {
   "cell_type": "markdown",
   "id": "b186b395-d11e-43cd-a271-a98f995357ab",
   "metadata": {},
   "source": [
    "**Q1. Explain Class and Object with respect to Object-Oriented Programming. Give a suitable example**"
   ]
  },
  {
   "cell_type": "markdown",
   "id": "ade79123-7448-458a-a693-94e4406750e4",
   "metadata": {},
   "source": [
    "A class is a blueprint for creating objects (instances), providing initial values for state (member variables or attributes), and implementations of behavior (member functions or methods). In OOP, classes define objects and their behaviors."
   ]
  },
  {
   "cell_type": "markdown",
   "id": "ce92ca57-ac6b-4fd6-a652-94a956bb90bd",
   "metadata": {},
   "source": [
    "An object is an instance of a class, created at runtime. Each object has its own state and behavior. Objects interact with each other through methods and can change their state."
   ]
  },
  {
   "cell_type": "code",
   "execution_count": 1,
   "id": "dba7ce9a-9c8f-42be-a34c-62e0ff3db40c",
   "metadata": {},
   "outputs": [
    {
     "name": "stdout",
     "output_type": "stream",
     "text": [
      "My bike is a Honda Activa from 2020\n",
      "Your bike is a Tvs Jupiter from 2022\n",
      "Starting the Honda Activa\n",
      "Starting the Tvs Jupiter\n"
     ]
    }
   ],
   "source": [
    "class bike:\n",
    "    def __init__(self, make, model, year):\n",
    "        self.make = make\n",
    "        self.model = model\n",
    "        self.year = year\n",
    "\n",
    "    def start(self):\n",
    "        print(f\"Starting the {self.make} {self.model}\")\n",
    "\n",
    "# Create objects of the Car class\n",
    "my_bike = bike(\"Honda\", \"Activa\", 2020)\n",
    "your_bike = bike(\"Tvs\", \"Jupiter\", 2022)\n",
    "\n",
    "# Access object attributes\n",
    "print(f\"My bike is a {my_bike.make} {my_bike.model} from {my_bike.year}\")\n",
    "print(f\"Your bike is a {your_bike.make} {your_bike.model} from {your_bike.year}\")\n",
    "\n",
    "# Call object methods\n",
    "my_bike.start()\n",
    "your_bike.start()"
   ]
  },
  {
   "cell_type": "markdown",
   "id": "a3d553cf-a883-422f-89fb-1c297207bc3a",
   "metadata": {},
   "source": [
    "**Q2. Name the four pillars of OOPs.**"
   ]
  },
  {
   "cell_type": "markdown",
   "id": "3ccab21e-6ed5-4221-bb95-0391b90d92cb",
   "metadata": {},
   "source": [
    "The four pillars of object-oriented programming (OOP) are:"
   ]
  },
  {
   "cell_type": "markdown",
   "id": "aaca56a6-1f5b-4ea0-b980-e62e92a1b8c3",
   "metadata": {},
   "source": [
    "**Abstraction**\n",
    "Data abstraction is the most essential function of object-oriented programming in C++. Abstraction means displaying only basic information and hiding the details. Data abstraction refers to providing only necessary information about the data to the outside world, hiding the background info or implementation."
   ]
  },
  {
   "cell_type": "markdown",
   "id": "ada8963d-034c-45cc-a76e-c2a62b66378c",
   "metadata": {},
   "source": [
    "**Encapsulation**\n",
    "In common terms, Encapsulation is defined as wrapping up of data and information under a single unit. In object-oriented programming, Encapsulation is defined as binding together the data and the functions that manipulate them."
   ]
  },
  {
   "cell_type": "markdown",
   "id": "17949143-1fea-4318-aef1-5c59ae688ed6",
   "metadata": {},
   "source": [
    "**Inheritance**\n",
    "Inheritance is the process in which two classes have a relationship with each other, and objects of one class acquire properties and features of the other class. The class which inherits the features is known as the child class, and the class whose features it inherited is called the parent class."
   ]
  },
  {
   "cell_type": "markdown",
   "id": "d4da8619-597a-46b9-8bfa-8fe81f9fc224",
   "metadata": {},
   "source": [
    "**Polymorphism**\n",
    "The word polymorphism means having many forms. It is the ability to take more than one form. It is a feature that provides a function or an operator with more than one definition. It can be implemented using function overloading, operator overload, function overriding, virtual function. An operation may show off different behaviors at different times."
   ]
  },
  {
   "cell_type": "markdown",
   "id": "d5c96370-ce65-49de-ae17-b3d0f565b2ec",
   "metadata": {},
   "source": [
    "These four pillars form the foundation of OOP and help to achieve the goals of modularity, reusability, and maintenance."
   ]
  },
  {
   "cell_type": "markdown",
   "id": "fab65e05-ae74-4797-8234-d65b578f4856",
   "metadata": {},
   "source": [
    "**Q3. Explain why the init() function is used. Give a suitable example.**"
   ]
  },
  {
   "cell_type": "markdown",
   "id": "dd259fcb-e23d-45f5-b10f-71e532670aa9",
   "metadata": {},
   "source": [
    "The __init__ function is called every time an object is created from a class. The __init__ method lets the class initialize the object's attributes and serves no other purpose. It is only used within classes."
   ]
  },
  {
   "cell_type": "code",
   "execution_count": 2,
   "id": "7808fcc3-7545-41ed-8d30-6f40aec0c365",
   "metadata": {},
   "outputs": [
    {
     "name": "stdout",
     "output_type": "stream",
     "text": [
      "Max is a Labrador and is 3 years old\n",
      "Buddy is a Beagle and is 5 years old\n",
      "Max barks!\n",
      "Buddy barks!\n"
     ]
    }
   ],
   "source": [
    "class Dog:\n",
    "    def __init__(self, name, breed, age):\n",
    "        self.name = name\n",
    "        self.breed = breed\n",
    "        self.age = age\n",
    "\n",
    "    def bark(self):\n",
    "        print(f\"{self.name} barks!\")\n",
    "\n",
    "# Create objects of the Dog class\n",
    "dog1 = Dog(\"Max\", \"Labrador\", 3)\n",
    "dog2 = Dog(\"Buddy\", \"Beagle\", 5)\n",
    "\n",
    "# Access object attributes\n",
    "print(f\"{dog1.name} is a {dog1.breed} and is {dog1.age} years old\")\n",
    "print(f\"{dog2.name} is a {dog2.breed} and is {dog2.age} years old\")\n",
    "\n",
    "# Call object methods\n",
    "dog1.bark()\n",
    "dog2.bark()"
   ]
  },
  {
   "cell_type": "markdown",
   "id": "e38def9d-b9ef-443b-b975-a78d928eab20",
   "metadata": {},
   "source": [
    "**Q4. Why self is used in OOPs?**"
   ]
  },
  {
   "cell_type": "markdown",
   "id": "d35668c9-07a9-46a7-bd0e-be9ae2484cab",
   "metadata": {},
   "source": [
    "The self variable is used to represent the instance of the class which is often used in object-oriented programming. It works as a reference to the object. Python uses the self parameter to refer to instance attributes and methods of the class."
   ]
  },
  {
   "cell_type": "markdown",
   "id": "a679399d-5252-4e21-b45c-4addd507a72a",
   "metadata": {},
   "source": [
    "In other words, self acts as a placeholder for the instance of the object. When a method is called on an object, the instance of the object is automatically passed as the first argument to the method. This allows the method to access and modify the attributes and behaviors of the object."
   ]
  },
  {
   "cell_type": "markdown",
   "id": "d917ab37-5294-48a5-8e8d-df6d5f7f2d29",
   "metadata": {},
   "source": [
    "**Q5. What is inheritance? Give an example for each type of inheritance.**"
   ]
  },
  {
   "cell_type": "markdown",
   "id": "c7eb6e21-27ec-4591-91ce-049b9a7f7780",
   "metadata": {},
   "source": [
    "**Inheritance** is a mechanism in Object-Oriented Programming (OOP) where a class can inherit properties and methods from a parent class. This allows for the creation of new classes that are related to existing classes, without having to write all the code from scratch. There are three types of inheritance in Python:"
   ]
  },
  {
   "cell_type": "markdown",
   "id": "4807f02b-4e9b-4b2d-a593-09936baf33f7",
   "metadata": {},
   "source": [
    "-*Single inheritance:* When a class inherits from a single parent class, it is called single inheritance."
   ]
  },
  {
   "cell_type": "code",
   "execution_count": 3,
   "id": "634619cd-a4d5-4fc1-8bee-99bb6bc78794",
   "metadata": {},
   "outputs": [
    {
     "name": "stdout",
     "output_type": "stream",
     "text": [
      "Parent class\n"
     ]
    }
   ],
   "source": [
    "class Parent:\n",
    "    def display(self):\n",
    "        print(\"Parent class\")\n",
    "\n",
    "class Child(Parent):\n",
    "    pass\n",
    "\n",
    "obj = Child()\n",
    "obj.display()"
   ]
  },
  {
   "cell_type": "markdown",
   "id": "aaaed444-0d17-4a32-adb5-b21ec79b5cb4",
   "metadata": {},
   "source": [
    "-*Multiple inheritance:* When a class inherits from multiple parent classes, it is called multiple inheritance."
   ]
  },
  {
   "cell_type": "code",
   "execution_count": 4,
   "id": "55333118-11f9-4e60-8bf0-9a89962bab9b",
   "metadata": {},
   "outputs": [],
   "source": [
    "class Parent1:\n",
    "    def display(self):\n",
    "        print(\"Parent 1 class\")\n",
    "\n",
    "class Parent2:\n",
    "    def display(self):\n",
    "        print(\"Parent 2 class\")\n",
    "\n",
    "class Child(Parent1, Parent2):\n",
    "    pass\n"
   ]
  },
  {
   "cell_type": "markdown",
   "id": "b1533482-22f8-41e9-b152-5fd11efe0434",
   "metadata": {},
   "source": [
    "-*Multi-level inheritance:* When a class inherits from a parent class, and that parent class inherits from another parent class, it is called multi-level inheritance."
   ]
  },
  {
   "cell_type": "code",
   "execution_count": 5,
   "id": "110157da-1da6-485b-b83d-91cc65a2b0d4",
   "metadata": {},
   "outputs": [
    {
     "name": "stdout",
     "output_type": "stream",
     "text": [
      "GrandParent class\n"
     ]
    }
   ],
   "source": [
    "class GrandParent:\n",
    "    def display(self):\n",
    "        print(\"GrandParent class\")\n",
    "\n",
    "class Parent(GrandParent):\n",
    "    pass\n",
    "\n",
    "class Child(Parent):\n",
    "    pass\n",
    "\n",
    "obj = Child()\n",
    "obj.display()"
   ]
  }
 ],
 "metadata": {
  "kernelspec": {
   "display_name": "Python 3 (ipykernel)",
   "language": "python",
   "name": "python3"
  },
  "language_info": {
   "codemirror_mode": {
    "name": "ipython",
    "version": 3
   },
   "file_extension": ".py",
   "mimetype": "text/x-python",
   "name": "python",
   "nbconvert_exporter": "python",
   "pygments_lexer": "ipython3",
   "version": "3.10.8"
  }
 },
 "nbformat": 4,
 "nbformat_minor": 5
}
